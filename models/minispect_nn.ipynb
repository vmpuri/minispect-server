{
 "cells": [
  {
   "cell_type": "code",
   "execution_count": 1,
   "metadata": {},
   "outputs": [
    {
     "name": "stdout",
     "output_type": "stream",
     "text": [
      "### Python version: 3.8.5 (default, Jul 28 2020, 12:59:40) \n",
      "[GCC 9.3.0]\n",
      "### NumPy version: 1.19.5\n",
      "### Scikit-learn version: 0.24.0\n",
      "### Tensorflow version: 2.4.0\n",
      "### TF Keras version: 2.4.0\n",
      "------------\n"
     ]
    }
   ],
   "source": [
    "import os\n",
    "import time\n",
    "\n",
    "import numpy as np\n",
    "import pandas as pd\n",
    "import sklearn\n",
    "\n",
    "import tensorflow as tf\n",
    "import tensorflow.keras as keras\n",
    "\n",
    "from matplotlib import pyplot as plt\n",
    "\n",
    "print('### Python version: ' + __import__('sys').version)\n",
    "print('### NumPy version: ' + np.__version__)\n",
    "print('### Scikit-learn version: ' + sklearn.__version__)\n",
    "print('### Tensorflow version: ' + tf.__version__)\n",
    "print('### TF Keras version: ' + keras.__version__)\n",
    "print('------------')\n",
    "\n",
    "random_state=123"
   ]
  },
  {
   "cell_type": "code",
   "execution_count": 2,
   "metadata": {},
   "outputs": [
    {
     "name": "stdout",
     "output_type": "stream",
     "text": [
      "['1a' '1b' '1c' '2a' '2b' '3a' '3b' '4' '5a']\n"
     ]
    }
   ],
   "source": [
    "data = pd.read_csv('minispect_dataset.csv')\n",
    "data = data[data.name != 'ref']\n",
    "print(data.name.unique())"
   ]
  },
  {
   "cell_type": "code",
   "execution_count": 64,
   "metadata": {},
   "outputs": [],
   "source": [
    "from sklearn.model_selection import train_test_split\n",
    "# Thanks to stackoverflowuser2010 https://stackoverflow.com/questions/38250710/how-to-split-data-into-3-sets-train-validation-and-test\n",
    "def minispect_test_val_train_split(data, y='gitelson', stratify_col='name', train=.7, val=.15, test=.15):\n",
    "    if train+val+test != 1.0:\n",
    "        raise ValueError('Train, test, and validation do not add to 1 ({},{},{})'.format(train,test,val))\n",
    "    n=data.shape[0]\n",
    "    \n",
    "    df_x = data\n",
    "    df_y = data[[y]]\n",
    "    \n",
    "    train_x, temp_x, train_y, temp_y = train_test_split(df_x, df_y, stratify=data[[stratify_col]], test_size=(1.0-train), random_state=random_state)    \n",
    "    val_x, test_x, val_y, test_y = train_test_split(np.squeeze(temp_x), np.squeeze(temp_y), stratify=temp_x[[stratify_col]], test_size=(val/(val+test)), random_state=random_state)\n",
    "    #train_x, temp_x, train_y, temp_y = train_test_split(df_x, df_y, test_size=(1.0-train), random_state=random_state)    \n",
    "    #val_x, test_x, val_y, test_y = train_test_split(np.squeeze(temp_x), np.squeeze(temp_y), test_size=(val/(val+test)), random_state=random_state)\n",
    "    \n",
    "    train_x = train_x.filter(regex='^\\d+$')\n",
    "    test_x = test_x.filter(regex='^\\d+$')\n",
    "    val_x = val_x.filter(regex='^\\d+$')\n",
    "    \n",
    "    poly_train_x = train_x.filter(regex='^\\d+$') ** 2\n",
    "    poly_test_x = test_x.filter(regex='^\\d+$') ** 2\n",
    "    poly_val_x = val_x.filter(regex='^\\d+$') ** 2\n",
    "    \n",
    "    for col in train_x.columns:\n",
    "        train_x['poly{}'.format(col)] = poly_train_x[col]\n",
    "        test_x['poly{}'.format(col)] = poly_test_x[col]\n",
    "        val_x['poly{}'.format(col)] = poly_val_x[col]\n",
    "    #train_x.add(poly_train_x)\n",
    "    #val_x.add(poly_val_x)\n",
    "    #test_x.add(poly_test_x)\n",
    "    \n",
    "    return train_x, np.squeeze(train_y), val_x, val_y, test_x, test_y\n",
    "    \n"
   ]
  },
  {
   "cell_type": "code",
   "execution_count": 65,
   "metadata": {},
   "outputs": [
    {
     "name": "stdout",
     "output_type": "stream",
     "text": [
      "(629, 576)\n",
      "(135, 576)\n",
      "(136, 576)\n",
      "(629,) (135,) (136,)\n"
     ]
    }
   ],
   "source": [
    "train_x, train_y, val_x, val_y, test_x, test_y = minispect_test_val_train_split(data)\n",
    "print(train_x.shape)\n",
    "print(val_x.shape)\n",
    "print(test_x.shape)\n",
    "print(train_y.shape, val_y.shape, test_y.shape)"
   ]
  },
  {
   "cell_type": "code",
   "execution_count": 66,
   "metadata": {},
   "outputs": [
    {
     "name": "stdout",
     "output_type": "stream",
     "text": [
      "[-2.2 -1.2 -0.2  0.8  1.8]\n",
      "[4.84 1.44 0.04 0.64 3.24]\n",
      "2.04\n"
     ]
    }
   ],
   "source": []
  },
  {
   "cell_type": "code",
   "execution_count": 67,
   "metadata": {},
   "outputs": [
    {
     "name": "stdout",
     "output_type": "stream",
     "text": [
      "Average Chl Content -- Training Set 0.9114403261675911\n",
      "train_mse 0.13552426565223893\n",
      "val_mse 0.12525641692086517\n",
      "test_mse 0.13469139669315097\n"
     ]
    }
   ],
   "source": [
    "### Mean Baseline -- just guess the mean Gitelson chlorophyll content of the training dataset.\n",
    "avg_chl_train = np.mean(train_y)\n",
    "\n",
    "def mse_baseline(train_y, val_y, test_y):\n",
    "    avg_chl_train = np.mean(train_y)\n",
    "    print('Average Chl Content -- Training Set', avg_chl_train)\n",
    "    \n",
    "    train_mse = np.mean(np.square(train_y-avg_chl_train))\n",
    "    val_mse = np.mean(np.square(val_y-avg_chl_train))\n",
    "    test_mse = np.mean(np.square(test_y-avg_chl_train))\n",
    "    \n",
    "    print('train_mse',train_mse)\n",
    "    print('val_mse',val_mse)\n",
    "    print('test_mse',test_mse)\n",
    "    \n",
    "mse_baseline(train_y, val_y, test_y)\n",
    "\n",
    "\n"
   ]
  },
  {
   "cell_type": "code",
   "execution_count": 68,
   "metadata": {},
   "outputs": [
    {
     "name": "stdout",
     "output_type": "stream",
     "text": [
      "0.000318739149077513\n",
      "0.23137948577510678\n",
      "0.17216720423491735\n",
      "[112  71 131]\n",
      "[642194.63948634 652873.10948099 849140.43216505]\n"
     ]
    }
   ],
   "source": [
    "### Linear Regression Baseline -- Create a linear model with the \n",
    "from sklearn.linear_model import LinearRegression\n",
    "from sklearn.metrics import mean_squared_error\n",
    "\n",
    "lin_reg_baseline = LinearRegression()\n",
    "lin_reg_baseline.fit(X=train_x,y=train_y)\n",
    "\n",
    "train_pred = lin_reg_baseline.predict(train_x)\n",
    "val_pred = lin_reg_baseline.predict(val_x)\n",
    "test_pred = lin_reg_baseline.predict(test_x)\n",
    "\n",
    "print(mean_squared_error(train_y, train_pred))\n",
    "print(mean_squared_error(val_y, val_pred))\n",
    "print(mean_squared_error(test_y, test_pred))\n",
    "\n",
    "max_weight_indices = np.array(lin_reg_baseline.coef_).argsort()[-3:]\n",
    "print(max_weight_indices)\n",
    "print(np.array(lin_reg_baseline.coef_)[max_weight_indices])\n",
    "\n"
   ]
  },
  {
   "cell_type": "code",
   "execution_count": 69,
   "metadata": {},
   "outputs": [],
   "source": [
    "class PerfEvalCustomCallback(keras.callbacks.Callback):\n",
    "    \n",
    "    def __init__(self, perf_data):\n",
    "        self.perf_data = perf_data\n",
    "    \n",
    "    # we define the on_epoch_end callback and save the loss and accuracy in perf_data\n",
    "    def on_epoch_end(self, epoch, logs=None):\n",
    "        self.perf_data[epoch,0] = logs['loss']\n",
    "        self.perf_data[epoch,1] = logs['mse']\n",
    "        self.perf_data[epoch,2] = logs['val_loss']\n",
    "        self.perf_data[epoch,3] = logs['val_mse']\n",
    "\n",
    "    def get_perf_data():\n",
    "        return self.perf_data"
   ]
  },
  {
   "cell_type": "code",
   "execution_count": 70,
   "metadata": {},
   "outputs": [],
   "source": [
    "def train_model(model, max_epochs=25, batch_size=100, verbose=0, \n",
    "                   dataset=(train_x, train_y, val_x, val_y, test_x, test_y)):\n",
    "\n",
    "    # unpack dataset\n",
    "    train_x, train_y, val_x, val_y, test_x, test_y = dataset\n",
    "    \n",
    "    # this is the callback we'll use for early stopping\n",
    "    early_stop_cb = keras.callbacks.EarlyStopping(monitor='loss', mode='min', patience=4)\n",
    "    \n",
    "    # setup the performance data callback\n",
    "    perf_data = np.zeros((max_epochs, 4))\n",
    "    perf_eval_cb = PerfEvalCustomCallback(perf_data)\n",
    "    \n",
    "    hobj = model.fit(train_x, train_y, validation_data=(val_x, val_y), epochs=max_epochs, batch_size=batch_size, \n",
    "                     shuffle=True, callbacks=[perf_eval_cb, early_stop_cb], verbose=verbose)\n",
    "    \n",
    "    eff_epochs = len(hobj.history['loss'])\n",
    "    eval_data = (perf_data[0:eff_epochs,:], dataset) # tuple of evaluation data\n",
    "    \n",
    "    return eval_data\n",
    "\n"
   ]
  },
  {
   "cell_type": "code",
   "execution_count": 71,
   "metadata": {},
   "outputs": [],
   "source": [
    "def create_compile_model(name='DNN-Minispect', hidden_activation='elu', input_shape=576, num_outputs=1, hidden_widths=[288,72,24]):\n",
    "    model = keras.models.Sequential(name=name)\n",
    "    \n",
    "    model.add(keras.layers.Input(shape=(input_shape,), sparse=False))\n",
    "    model.add(keras.layers.Dropout(0.2,input_shape=(input_shape,)))\n",
    "    for i, hw in enumerate(hidden_widths):\n",
    "        model.add(keras.layers.Dense(hw, activation=hidden_activation, name='hidden_{}'.format(i),kernel_initializer=keras.initializers.RandomNormal(stddev=np.sqrt(1/hw)),\n",
    "                                     bias_initializer=keras.initializers.Zeros(), use_bias=False))\n",
    "        \n",
    "    model.add(keras.layers.Dense(num_outputs, activation='linear', name='output', kernel_initializer=keras.initializers.RandomNormal(stddev=np.sqrt(0.1)), bias_initializer=keras.initializers.Zeros(), use_bias=True))\n",
    "    \n",
    "    opt = keras.optimizers.Adam(lr=0.0001)\n",
    "    \n",
    "    model.compile(loss=tf.keras.losses.MeanSquaredError(), optimizer=opt,metrics=['MeanSquaredError'])\n",
    "    return model"
   ]
  },
  {
   "cell_type": "code",
   "execution_count": 93,
   "metadata": {
    "scrolled": true
   },
   "outputs": [
    {
     "name": "stdout",
     "output_type": "stream",
     "text": [
      "Epoch 1/100\n",
      "126/126 [==============================] - 1s 5ms/step - loss: 0.6100 - mean_squared_error: 0.6100 - val_loss: 0.1208 - val_mean_squared_error: 0.1208\n",
      "Epoch 2/100\n",
      "126/126 [==============================] - 0s 3ms/step - loss: 0.2354 - mean_squared_error: 0.2354 - val_loss: 0.1359 - val_mean_squared_error: 0.1359\n",
      "Epoch 3/100\n",
      "126/126 [==============================] - 0s 3ms/step - loss: 0.2027 - mean_squared_error: 0.2027 - val_loss: 0.1095 - val_mean_squared_error: 0.1095\n",
      "Epoch 4/100\n",
      "126/126 [==============================] - 0s 3ms/step - loss: 0.1761 - mean_squared_error: 0.1761 - val_loss: 0.1180 - val_mean_squared_error: 0.1180\n",
      "Epoch 5/100\n",
      "126/126 [==============================] - 0s 3ms/step - loss: 0.1484 - mean_squared_error: 0.1484 - val_loss: 0.1468 - val_mean_squared_error: 0.1468\n",
      "Epoch 6/100\n",
      "126/126 [==============================] - 0s 3ms/step - loss: 0.1534 - mean_squared_error: 0.1534 - val_loss: 0.2655 - val_mean_squared_error: 0.2655\n",
      "Epoch 7/100\n",
      "126/126 [==============================] - 0s 3ms/step - loss: 0.1649 - mean_squared_error: 0.1649 - val_loss: 0.1141 - val_mean_squared_error: 0.1141\n",
      "Epoch 8/100\n",
      "126/126 [==============================] - 0s 3ms/step - loss: 0.1541 - mean_squared_error: 0.1541 - val_loss: 0.1001 - val_mean_squared_error: 0.1001\n",
      "Epoch 9/100\n",
      "126/126 [==============================] - 0s 3ms/step - loss: 0.1489 - mean_squared_error: 0.1489 - val_loss: 0.0875 - val_mean_squared_error: 0.0875\n",
      "Epoch 10/100\n",
      "126/126 [==============================] - 0s 3ms/step - loss: 0.1163 - mean_squared_error: 0.1163 - val_loss: 0.0948 - val_mean_squared_error: 0.0948\n",
      "Epoch 11/100\n",
      "126/126 [==============================] - 0s 3ms/step - loss: 0.1195 - mean_squared_error: 0.1195 - val_loss: 0.0794 - val_mean_squared_error: 0.0794\n",
      "Epoch 12/100\n",
      "126/126 [==============================] - 0s 3ms/step - loss: 0.1165 - mean_squared_error: 0.1165 - val_loss: 0.1123 - val_mean_squared_error: 0.1123\n",
      "Epoch 13/100\n",
      "126/126 [==============================] - 0s 3ms/step - loss: 0.1134 - mean_squared_error: 0.1134 - val_loss: 0.0926 - val_mean_squared_error: 0.0926\n",
      "Epoch 14/100\n",
      "126/126 [==============================] - 0s 3ms/step - loss: 0.1124 - mean_squared_error: 0.1124 - val_loss: 0.0784 - val_mean_squared_error: 0.0784\n",
      "Epoch 15/100\n",
      "126/126 [==============================] - 0s 3ms/step - loss: 0.0973 - mean_squared_error: 0.0973 - val_loss: 0.1594 - val_mean_squared_error: 0.1594\n",
      "Epoch 16/100\n",
      "126/126 [==============================] - 0s 3ms/step - loss: 0.1194 - mean_squared_error: 0.1194 - val_loss: 0.0748 - val_mean_squared_error: 0.0748\n",
      "Epoch 17/100\n",
      "126/126 [==============================] - 0s 3ms/step - loss: 0.0980 - mean_squared_error: 0.0980 - val_loss: 0.0974 - val_mean_squared_error: 0.0974\n",
      "Epoch 18/100\n",
      "126/126 [==============================] - 0s 3ms/step - loss: 0.0996 - mean_squared_error: 0.0996 - val_loss: 0.0941 - val_mean_squared_error: 0.0941\n",
      "Epoch 19/100\n",
      "126/126 [==============================] - 0s 3ms/step - loss: 0.1187 - mean_squared_error: 0.1187 - val_loss: 0.0873 - val_mean_squared_error: 0.0873\n",
      "Epoch 20/100\n",
      "126/126 [==============================] - 0s 3ms/step - loss: 0.1106 - mean_squared_error: 0.1106 - val_loss: 0.0581 - val_mean_squared_error: 0.0581\n",
      "Epoch 21/100\n",
      "126/126 [==============================] - 0s 3ms/step - loss: 0.0895 - mean_squared_error: 0.0895 - val_loss: 0.1672 - val_mean_squared_error: 0.1672\n",
      "Epoch 22/100\n",
      "126/126 [==============================] - 0s 3ms/step - loss: 0.1027 - mean_squared_error: 0.1027 - val_loss: 0.1043 - val_mean_squared_error: 0.1043\n",
      "Epoch 23/100\n",
      "126/126 [==============================] - 0s 3ms/step - loss: 0.0943 - mean_squared_error: 0.0943 - val_loss: 0.0901 - val_mean_squared_error: 0.0901\n",
      "Epoch 24/100\n",
      "126/126 [==============================] - 0s 3ms/step - loss: 0.1014 - mean_squared_error: 0.1014 - val_loss: 0.0478 - val_mean_squared_error: 0.0478\n",
      "Epoch 25/100\n",
      "126/126 [==============================] - 0s 3ms/step - loss: 0.0841 - mean_squared_error: 0.0841 - val_loss: 0.0558 - val_mean_squared_error: 0.0558\n",
      "Epoch 26/100\n",
      "126/126 [==============================] - 0s 3ms/step - loss: 0.0830 - mean_squared_error: 0.0830 - val_loss: 0.0825 - val_mean_squared_error: 0.0825\n",
      "Epoch 27/100\n",
      "126/126 [==============================] - 0s 3ms/step - loss: 0.0798 - mean_squared_error: 0.0798 - val_loss: 0.0421 - val_mean_squared_error: 0.0421\n",
      "Epoch 28/100\n",
      "126/126 [==============================] - 0s 3ms/step - loss: 0.0775 - mean_squared_error: 0.0775 - val_loss: 0.0473 - val_mean_squared_error: 0.0473\n",
      "Epoch 29/100\n",
      "126/126 [==============================] - 0s 3ms/step - loss: 0.0687 - mean_squared_error: 0.0687 - val_loss: 0.0440 - val_mean_squared_error: 0.0440\n",
      "Epoch 30/100\n",
      "126/126 [==============================] - 0s 3ms/step - loss: 0.0919 - mean_squared_error: 0.0919 - val_loss: 0.0408 - val_mean_squared_error: 0.0408\n",
      "Epoch 31/100\n",
      "126/126 [==============================] - 0s 3ms/step - loss: 0.0768 - mean_squared_error: 0.0768 - val_loss: 0.0597 - val_mean_squared_error: 0.0597\n",
      "Epoch 32/100\n",
      "126/126 [==============================] - 0s 3ms/step - loss: 0.0776 - mean_squared_error: 0.0776 - val_loss: 0.0480 - val_mean_squared_error: 0.0480\n",
      "Epoch 33/100\n",
      "126/126 [==============================] - 0s 3ms/step - loss: 0.0645 - mean_squared_error: 0.0645 - val_loss: 0.0646 - val_mean_squared_error: 0.0646\n",
      "Epoch 34/100\n",
      "126/126 [==============================] - 0s 3ms/step - loss: 0.0730 - mean_squared_error: 0.0730 - val_loss: 0.0471 - val_mean_squared_error: 0.0471\n",
      "Epoch 35/100\n",
      "126/126 [==============================] - 0s 3ms/step - loss: 0.0770 - mean_squared_error: 0.0770 - val_loss: 0.0521 - val_mean_squared_error: 0.0521\n",
      "Epoch 36/100\n",
      "126/126 [==============================] - 0s 3ms/step - loss: 0.0777 - mean_squared_error: 0.0777 - val_loss: 0.0667 - val_mean_squared_error: 0.0667\n",
      "Epoch 37/100\n",
      "126/126 [==============================] - 0s 3ms/step - loss: 0.0627 - mean_squared_error: 0.0627 - val_loss: 0.0357 - val_mean_squared_error: 0.0357\n",
      "Epoch 38/100\n",
      "126/126 [==============================] - 0s 3ms/step - loss: 0.0629 - mean_squared_error: 0.0629 - val_loss: 0.0336 - val_mean_squared_error: 0.0336\n",
      "Epoch 39/100\n",
      "126/126 [==============================] - 0s 3ms/step - loss: 0.0694 - mean_squared_error: 0.0694 - val_loss: 0.0483 - val_mean_squared_error: 0.0483\n",
      "Epoch 40/100\n",
      "126/126 [==============================] - 0s 3ms/step - loss: 0.0712 - mean_squared_error: 0.0712 - val_loss: 0.0528 - val_mean_squared_error: 0.0528\n",
      "Epoch 41/100\n",
      "126/126 [==============================] - 0s 3ms/step - loss: 0.0726 - mean_squared_error: 0.0726 - val_loss: 0.0355 - val_mean_squared_error: 0.0355\n",
      "Epoch 42/100\n",
      "126/126 [==============================] - 0s 3ms/step - loss: 0.0565 - mean_squared_error: 0.0565 - val_loss: 0.0342 - val_mean_squared_error: 0.0342\n",
      "Epoch 43/100\n",
      "126/126 [==============================] - 0s 3ms/step - loss: 0.0736 - mean_squared_error: 0.0736 - val_loss: 0.0340 - val_mean_squared_error: 0.0340\n",
      "Epoch 44/100\n",
      "126/126 [==============================] - 0s 3ms/step - loss: 0.0859 - mean_squared_error: 0.0859 - val_loss: 0.0401 - val_mean_squared_error: 0.0401\n",
      "Epoch 45/100\n",
      "126/126 [==============================] - 0s 3ms/step - loss: 0.0714 - mean_squared_error: 0.0714 - val_loss: 0.0569 - val_mean_squared_error: 0.0569\n",
      "Epoch 46/100\n",
      "126/126 [==============================] - 0s 3ms/step - loss: 0.0675 - mean_squared_error: 0.0675 - val_loss: 0.0383 - val_mean_squared_error: 0.0383\n",
      "Epoch 47/100\n",
      "126/126 [==============================] - 0s 3ms/step - loss: 0.0629 - mean_squared_error: 0.0629 - val_loss: 0.0402 - val_mean_squared_error: 0.0402\n",
      "Epoch 48/100\n",
      "126/126 [==============================] - 0s 3ms/step - loss: 0.0682 - mean_squared_error: 0.0682 - val_loss: 0.0408 - val_mean_squared_error: 0.0408\n",
      "Epoch 49/100\n",
      "126/126 [==============================] - 0s 3ms/step - loss: 0.0688 - mean_squared_error: 0.0688 - val_loss: 0.0277 - val_mean_squared_error: 0.0277\n",
      "Epoch 50/100\n",
      "126/126 [==============================] - 0s 3ms/step - loss: 0.0669 - mean_squared_error: 0.0669 - val_loss: 0.0366 - val_mean_squared_error: 0.0366\n",
      "Epoch 51/100\n",
      "126/126 [==============================] - 0s 3ms/step - loss: 0.0593 - mean_squared_error: 0.0593 - val_loss: 0.0358 - val_mean_squared_error: 0.0358\n",
      "Epoch 52/100\n",
      "126/126 [==============================] - 0s 3ms/step - loss: 0.0751 - mean_squared_error: 0.0751 - val_loss: 0.0350 - val_mean_squared_error: 0.0350\n",
      "Epoch 53/100\n",
      "126/126 [==============================] - 0s 3ms/step - loss: 0.0664 - mean_squared_error: 0.0664 - val_loss: 0.0657 - val_mean_squared_error: 0.0657\n",
      "Epoch 54/100\n",
      "126/126 [==============================] - 0s 3ms/step - loss: 0.0641 - mean_squared_error: 0.0641 - val_loss: 0.0301 - val_mean_squared_error: 0.0301\n",
      "Epoch 55/100\n",
      "126/126 [==============================] - 0s 3ms/step - loss: 0.0676 - mean_squared_error: 0.0676 - val_loss: 0.0451 - val_mean_squared_error: 0.0451\n",
      "Epoch 56/100\n",
      "126/126 [==============================] - 0s 3ms/step - loss: 0.0797 - mean_squared_error: 0.0797 - val_loss: 0.0355 - val_mean_squared_error: 0.0355\n",
      "Epoch 57/100\n",
      "126/126 [==============================] - 0s 3ms/step - loss: 0.0710 - mean_squared_error: 0.0710 - val_loss: 0.0305 - val_mean_squared_error: 0.0305\n",
      "Epoch 58/100\n",
      "126/126 [==============================] - 0s 3ms/step - loss: 0.0609 - mean_squared_error: 0.0609 - val_loss: 0.0375 - val_mean_squared_error: 0.0375\n",
      "Epoch 59/100\n",
      "126/126 [==============================] - 0s 3ms/step - loss: 0.0671 - mean_squared_error: 0.0671 - val_loss: 0.0366 - val_mean_squared_error: 0.0366\n",
      "Epoch 60/100\n",
      "126/126 [==============================] - 0s 3ms/step - loss: 0.0701 - mean_squared_error: 0.0701 - val_loss: 0.0284 - val_mean_squared_error: 0.0284\n",
      "Epoch 61/100\n",
      "126/126 [==============================] - 0s 3ms/step - loss: 0.0613 - mean_squared_error: 0.0613 - val_loss: 0.0313 - val_mean_squared_error: 0.0313\n",
      "Epoch 62/100\n",
      "126/126 [==============================] - 0s 3ms/step - loss: 0.0550 - mean_squared_error: 0.0550 - val_loss: 0.0510 - val_mean_squared_error: 0.0510\n",
      "Epoch 63/100\n",
      "126/126 [==============================] - 0s 3ms/step - loss: 0.0689 - mean_squared_error: 0.0689 - val_loss: 0.0268 - val_mean_squared_error: 0.0268\n",
      "Epoch 64/100\n",
      "126/126 [==============================] - 0s 3ms/step - loss: 0.0627 - mean_squared_error: 0.0627 - val_loss: 0.0264 - val_mean_squared_error: 0.0264\n",
      "Epoch 65/100\n",
      "126/126 [==============================] - 0s 3ms/step - loss: 0.0648 - mean_squared_error: 0.0648 - val_loss: 0.0486 - val_mean_squared_error: 0.0486\n",
      "Epoch 66/100\n",
      "126/126 [==============================] - 0s 3ms/step - loss: 0.0603 - mean_squared_error: 0.0603 - val_loss: 0.0273 - val_mean_squared_error: 0.0273\n",
      "Epoch 67/100\n",
      "126/126 [==============================] - 0s 3ms/step - loss: 0.0697 - mean_squared_error: 0.0697 - val_loss: 0.0337 - val_mean_squared_error: 0.0337\n",
      "Epoch 68/100\n",
      "126/126 [==============================] - 0s 3ms/step - loss: 0.0604 - mean_squared_error: 0.0604 - val_loss: 0.0312 - val_mean_squared_error: 0.0312\n",
      "Epoch 69/100\n",
      "126/126 [==============================] - 0s 3ms/step - loss: 0.0604 - mean_squared_error: 0.0604 - val_loss: 0.0292 - val_mean_squared_error: 0.0292\n",
      "Epoch 70/100\n",
      "126/126 [==============================] - 0s 3ms/step - loss: 0.0642 - mean_squared_error: 0.0642 - val_loss: 0.0274 - val_mean_squared_error: 0.0274\n",
      "Epoch 71/100\n",
      "126/126 [==============================] - 0s 3ms/step - loss: 0.0563 - mean_squared_error: 0.0563 - val_loss: 0.0405 - val_mean_squared_error: 0.0405\n",
      "Epoch 72/100\n",
      "126/126 [==============================] - 0s 3ms/step - loss: 0.0776 - mean_squared_error: 0.0776 - val_loss: 0.0339 - val_mean_squared_error: 0.0339\n",
      "Epoch 73/100\n",
      "126/126 [==============================] - 0s 3ms/step - loss: 0.0627 - mean_squared_error: 0.0627 - val_loss: 0.0347 - val_mean_squared_error: 0.0347\n",
      "Epoch 74/100\n",
      "126/126 [==============================] - 0s 3ms/step - loss: 0.0619 - mean_squared_error: 0.0619 - val_loss: 0.0314 - val_mean_squared_error: 0.0314\n",
      "Epoch 75/100\n",
      "126/126 [==============================] - 0s 3ms/step - loss: 0.0694 - mean_squared_error: 0.0694 - val_loss: 0.0295 - val_mean_squared_error: 0.0295\n",
      "Epoch 76/100\n",
      "126/126 [==============================] - 0s 3ms/step - loss: 0.0561 - mean_squared_error: 0.0561 - val_loss: 0.0412 - val_mean_squared_error: 0.0412\n",
      "Epoch 77/100\n",
      "126/126 [==============================] - 0s 3ms/step - loss: 0.0539 - mean_squared_error: 0.0539 - val_loss: 0.0259 - val_mean_squared_error: 0.0259\n",
      "Epoch 78/100\n",
      "126/126 [==============================] - 0s 3ms/step - loss: 0.0569 - mean_squared_error: 0.0569 - val_loss: 0.0366 - val_mean_squared_error: 0.0366\n",
      "Epoch 79/100\n",
      "126/126 [==============================] - 0s 3ms/step - loss: 0.0543 - mean_squared_error: 0.0543 - val_loss: 0.0251 - val_mean_squared_error: 0.0251\n",
      "Epoch 80/100\n",
      "126/126 [==============================] - 0s 3ms/step - loss: 0.0701 - mean_squared_error: 0.0701 - val_loss: 0.0397 - val_mean_squared_error: 0.0397\n",
      "Epoch 81/100\n",
      "126/126 [==============================] - 0s 3ms/step - loss: 0.0654 - mean_squared_error: 0.0654 - val_loss: 0.0484 - val_mean_squared_error: 0.0484\n",
      "Epoch 82/100\n",
      "126/126 [==============================] - 0s 3ms/step - loss: 0.0667 - mean_squared_error: 0.0667 - val_loss: 0.0297 - val_mean_squared_error: 0.0297\n",
      "Epoch 83/100\n",
      "126/126 [==============================] - 0s 3ms/step - loss: 0.0528 - mean_squared_error: 0.0528 - val_loss: 0.0264 - val_mean_squared_error: 0.0264\n",
      "Epoch 84/100\n",
      "126/126 [==============================] - 0s 3ms/step - loss: 0.0624 - mean_squared_error: 0.0624 - val_loss: 0.0277 - val_mean_squared_error: 0.0277\n",
      "Epoch 85/100\n",
      "126/126 [==============================] - 0s 3ms/step - loss: 0.0607 - mean_squared_error: 0.0607 - val_loss: 0.0250 - val_mean_squared_error: 0.0250\n",
      "Epoch 86/100\n",
      "126/126 [==============================] - 0s 3ms/step - loss: 0.0593 - mean_squared_error: 0.0593 - val_loss: 0.0249 - val_mean_squared_error: 0.0249\n",
      "Epoch 87/100\n",
      "126/126 [==============================] - 0s 3ms/step - loss: 0.0600 - mean_squared_error: 0.0600 - val_loss: 0.0326 - val_mean_squared_error: 0.0326\n",
      "Epoch 88/100\n",
      "126/126 [==============================] - 0s 3ms/step - loss: 0.0692 - mean_squared_error: 0.0692 - val_loss: 0.0423 - val_mean_squared_error: 0.0423\n",
      "Epoch 89/100\n",
      "126/126 [==============================] - 0s 3ms/step - loss: 0.0612 - mean_squared_error: 0.0612 - val_loss: 0.0261 - val_mean_squared_error: 0.0261\n",
      "Epoch 90/100\n",
      "126/126 [==============================] - 0s 3ms/step - loss: 0.0577 - mean_squared_error: 0.0577 - val_loss: 0.0336 - val_mean_squared_error: 0.0336\n",
      "Epoch 91/100\n",
      "126/126 [==============================] - 0s 3ms/step - loss: 0.0655 - mean_squared_error: 0.0655 - val_loss: 0.0273 - val_mean_squared_error: 0.0273\n",
      "Epoch 92/100\n",
      "126/126 [==============================] - 0s 3ms/step - loss: 0.0669 - mean_squared_error: 0.0669 - val_loss: 0.0251 - val_mean_squared_error: 0.0251\n",
      "Epoch 93/100\n",
      "126/126 [==============================] - 0s 3ms/step - loss: 0.0719 - mean_squared_error: 0.0719 - val_loss: 0.0261 - val_mean_squared_error: 0.0261\n",
      "Epoch 94/100\n",
      "126/126 [==============================] - 0s 3ms/step - loss: 0.0627 - mean_squared_error: 0.0627 - val_loss: 0.0247 - val_mean_squared_error: 0.0247\n",
      "Epoch 95/100\n",
      "126/126 [==============================] - 0s 3ms/step - loss: 0.0546 - mean_squared_error: 0.0546 - val_loss: 0.0619 - val_mean_squared_error: 0.0619\n",
      "Epoch 96/100\n",
      "126/126 [==============================] - 0s 3ms/step - loss: 0.0637 - mean_squared_error: 0.0637 - val_loss: 0.0341 - val_mean_squared_error: 0.0341\n",
      "Epoch 97/100\n",
      "126/126 [==============================] - 0s 3ms/step - loss: 0.0498 - mean_squared_error: 0.0498 - val_loss: 0.0250 - val_mean_squared_error: 0.0250\n",
      "Epoch 98/100\n",
      "126/126 [==============================] - 0s 3ms/step - loss: 0.0621 - mean_squared_error: 0.0621 - val_loss: 0.0257 - val_mean_squared_error: 0.0257\n",
      "Epoch 99/100\n",
      "126/126 [==============================] - 0s 3ms/step - loss: 0.0652 - mean_squared_error: 0.0652 - val_loss: 0.0598 - val_mean_squared_error: 0.0598\n",
      "Epoch 100/100\n",
      "126/126 [==============================] - 0s 3ms/step - loss: 0.0656 - mean_squared_error: 0.0656 - val_loss: 0.0280 - val_mean_squared_error: 0.0280\n"
     ]
    },
    {
     "data": {
      "text/plain": [
       "<tensorflow.python.keras.callbacks.History at 0x7ffa304d5940>"
      ]
     },
     "execution_count": 93,
     "metadata": {},
     "output_type": "execute_result"
    }
   ],
   "source": [
    "model = create_compile_model(hidden_activation='relu')\n",
    "model.fit(train_x,train_y,epochs=100,batch_size=5,validation_data=(val_x,val_y))"
   ]
  },
  {
   "cell_type": "code",
   "execution_count": 94,
   "metadata": {},
   "outputs": [
    {
     "name": "stdout",
     "output_type": "stream",
     "text": [
      "5/5 [==============================] - 0s 3ms/step - loss: 0.0373 - mean_squared_error: 0.0373\n"
     ]
    },
    {
     "data": {
      "text/plain": [
       "[0.03733113408088684, 0.03733113408088684]"
      ]
     },
     "execution_count": 94,
     "metadata": {},
     "output_type": "execute_result"
    }
   ],
   "source": [
    "model.evaluate(x=test_x, y=test_y)"
   ]
  },
  {
   "cell_type": "code",
   "execution_count": 74,
   "metadata": {},
   "outputs": [
    {
     "data": {
      "text/plain": [
       "(576, 288)"
      ]
     },
     "execution_count": 74,
     "metadata": {},
     "output_type": "execute_result"
    }
   ],
   "source": [
    "np.array(model.weights[0]).shape"
   ]
  },
  {
   "cell_type": "markdown",
   "metadata": {},
   "source": [
    "## Export our model out to a queryable TensorFlow lite format."
   ]
  },
  {
   "cell_type": "code",
   "execution_count": 92,
   "metadata": {
    "collapsed": true
   },
   "outputs": [
    {
     "name": "stdout",
     "output_type": "stream",
     "text": [
      "INFO:tensorflow:Assets written to: /tmp/tmp39fla71b/assets\n"
     ]
    },
    {
     "name": "stderr",
     "output_type": "stream",
     "text": [
      "INFO:tensorflow:Assets written to: /tmp/tmp39fla71b/assets\n"
     ]
    },
    {
     "data": {
      "text/plain": [
       "755120"
      ]
     },
     "execution_count": 92,
     "metadata": {},
     "output_type": "execute_result"
    }
   ],
   "source": [
    "import tensorflow.lite as tflite\n",
    "converter = tflite.TFLiteConverter.from_keras_model(model)\n",
    "tflite_model = converter.convert()\n",
    "open('chl_nn_minispect.tflite', 'wb').write(tflite_model)\n",
    "\n"
   ]
  },
  {
   "cell_type": "code",
   "execution_count": null,
   "metadata": {},
   "outputs": [],
   "source": []
  }
 ],
 "metadata": {
  "kernelspec": {
   "display_name": "Python 3",
   "language": "python",
   "name": "python3"
  },
  "language_info": {
   "codemirror_mode": {
    "name": "ipython",
    "version": 3
   },
   "file_extension": ".py",
   "mimetype": "text/x-python",
   "name": "python",
   "nbconvert_exporter": "python",
   "pygments_lexer": "ipython3",
   "version": "3.8.5"
  }
 },
 "nbformat": 4,
 "nbformat_minor": 4
}
