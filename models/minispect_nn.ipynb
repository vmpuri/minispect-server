{
 "cells": [
  {
   "cell_type": "code",
   "execution_count": 1,
   "metadata": {},
   "outputs": [
    {
     "name": "stdout",
     "output_type": "stream",
     "text": [
      "### Python version: 3.8.5 (default, Jul 28 2020, 12:59:40) \n",
      "[GCC 9.3.0]\n",
      "### NumPy version: 1.19.5\n",
      "### Scikit-learn version: 0.24.0\n",
      "### Tensorflow version: 2.4.0\n",
      "### TF Keras version: 2.4.0\n",
      "------------\n"
     ]
    }
   ],
   "source": [
    "import os\n",
    "import time\n",
    "\n",
    "import numpy as np\n",
    "import pandas as pd\n",
    "import sklearn\n",
    "\n",
    "import tensorflow as tf\n",
    "import tensorflow.keras as keras\n",
    "\n",
    "from matplotlib import pyplot as plt\n",
    "\n",
    "print('### Python version: ' + __import__('sys').version)\n",
    "print('### NumPy version: ' + np.__version__)\n",
    "print('### Scikit-learn version: ' + sklearn.__version__)\n",
    "print('### Tensorflow version: ' + tf.__version__)\n",
    "print('### TF Keras version: ' + keras.__version__)\n",
    "print('------------')\n",
    "\n",
    "random_state=123"
   ]
  },
  {
   "cell_type": "code",
   "execution_count": 2,
   "metadata": {},
   "outputs": [
    {
     "name": "stdout",
     "output_type": "stream",
     "text": [
      "['1a' '1b' '1c' '2a' '2b' '3a' '3b' '4' '5a']\n"
     ]
    }
   ],
   "source": [
    "data = pd.read_csv('minispect_dataset.csv')\n",
    "data = data[data.name != 'ref']\n",
    "print(data.name.unique())"
   ]
  },
  {
   "cell_type": "code",
   "execution_count": 95,
   "metadata": {},
   "outputs": [],
   "source": [
    "from sklearn.model_selection import train_test_split\n",
    "# Thanks to stackoverflowuser2010 https://stackoverflow.com/questions/38250710/how-to-split-data-into-3-sets-train-validation-and-test\n",
    "def minispect_test_val_train_split(data, y='gitelson', stratify_col='name', train=.7, val=.15, test=.15):\n",
    "    if train+val+test != 1.0:\n",
    "        raise ValueError('Train, test, and validation do not add to 1 ({},{},{})'.format(train,test,val))\n",
    "    n=data.shape[0]\n",
    "    \n",
    "    df_x = data\n",
    "    df_y = data[[y]]\n",
    "    \n",
    "    #train_x, temp_x, train_y, temp_y = train_test_split(df_x, df_y, stratify=data[[stratify_col]], test_size=(1.0-train), random_state=random_state)    \n",
    "    #val_x, test_x, val_y, test_y = train_test_split(np.squeeze(temp_x), np.squeeze(temp_y), stratify=temp_x[[stratify_col]], test_size=(val/(val+test)), random_state=random_state)\n",
    "    train_x, temp_x, train_y, temp_y = train_test_split(df_x, df_y, test_size=(1.0-train), random_state=random_state)    \n",
    "    val_x, test_x, val_y, test_y = train_test_split(np.squeeze(temp_x), np.squeeze(temp_y), test_size=(val/(val+test)), random_state=random_state)\n",
    "    \n",
    "    train_x = train_x.filter(regex='^\\d+$')\n",
    "    test_x = test_x.filter(regex='^\\d+$')\n",
    "    val_x = val_x.filter(regex='^\\d+$')\n",
    "    \n",
    "    poly_train_x = train_x.filter(regex='^\\d+$') ** 2\n",
    "    poly_test_x = test_x.filter(regex='^\\d+$') ** 2\n",
    "    poly_val_x = val_x.filter(regex='^\\d+$') ** 2\n",
    "    \n",
    "    for col in train_x.columns:\n",
    "        train_x['poly{}'.format(col)] = poly_train_x[col]\n",
    "        test_x['poly{}'.format(col)] = poly_test_x[col]\n",
    "        val_x['poly{}'.format(col)] = poly_val_x[col]\n",
    "    #train_x.add(poly_train_x)\n",
    "    #val_x.add(poly_val_x)\n",
    "    #test_x.add(poly_test_x)\n",
    "    \n",
    "    return train_x, np.squeeze(train_y), val_x, val_y, test_x, test_y\n",
    "    \n"
   ]
  },
  {
   "cell_type": "code",
   "execution_count": 96,
   "metadata": {},
   "outputs": [
    {
     "name": "stdout",
     "output_type": "stream",
     "text": [
      "(629, 576)\n",
      "(135, 576)\n",
      "(136, 576)\n",
      "(629,) (135,) (136,)\n"
     ]
    }
   ],
   "source": [
    "train_x, train_y, val_x, val_y, test_x, test_y = minispect_test_val_train_split(data)\n",
    "print(train_x.shape)\n",
    "print(val_x.shape)\n",
    "print(test_x.shape)\n",
    "print(train_y.shape, val_y.shape, test_y.shape)"
   ]
  },
  {
   "cell_type": "code",
   "execution_count": null,
   "metadata": {},
   "outputs": [],
   "source": []
  },
  {
   "cell_type": "code",
   "execution_count": 97,
   "metadata": {},
   "outputs": [
    {
     "name": "stdout",
     "output_type": "stream",
     "text": [
      "Average Chl Content -- Training Set 0.9013335550734533\n",
      "train_mse 0.12938414057033\n",
      "val_mse 0.15328311787091767\n",
      "test_mse 0.13591925093728202\n"
     ]
    }
   ],
   "source": [
    "### Mean Baseline -- just guess the mean Gitelson chlorophyll content of the training dataset.\n",
    "avg_chl_train = np.mean(train_y)\n",
    "\n",
    "def mse_baseline(train_y, val_y, test_y):\n",
    "    avg_chl_train = np.mean(train_y)\n",
    "    print('Average Chl Content -- Training Set', avg_chl_train)\n",
    "    \n",
    "    train_mse = np.mean(np.square(train_y-avg_chl_train))\n",
    "    val_mse = np.mean(np.square(val_y-avg_chl_train))\n",
    "    test_mse = np.mean(np.square(test_y-avg_chl_train))\n",
    "    \n",
    "    print('train_mse',train_mse)\n",
    "    print('val_mse',val_mse)\n",
    "    print('test_mse',test_mse)\n",
    "    \n",
    "mse_baseline(train_y, val_y, test_y)\n",
    "\n",
    "\n"
   ]
  },
  {
   "cell_type": "code",
   "execution_count": 98,
   "metadata": {},
   "outputs": [
    {
     "name": "stdout",
     "output_type": "stream",
     "text": [
      "0.0002485524829636949\n",
      "0.05362516089136016\n",
      "0.07825981030246873\n",
      "[ 76 109 125]\n",
      "[361957.0849065  362912.59213544 440121.48151805]\n"
     ]
    }
   ],
   "source": [
    "### Linear Regression Baseline -- Create a linear model with the \n",
    "from sklearn.linear_model import LinearRegression\n",
    "from sklearn.metrics import mean_squared_error\n",
    "\n",
    "lin_reg_baseline = LinearRegression()\n",
    "lin_reg_baseline.fit(X=train_x,y=train_y)\n",
    "\n",
    "train_pred = lin_reg_baseline.predict(train_x)\n",
    "val_pred = lin_reg_baseline.predict(val_x)\n",
    "test_pred = lin_reg_baseline.predict(test_x)\n",
    "\n",
    "print(mean_squared_error(train_y, train_pred))\n",
    "print(mean_squared_error(val_y, val_pred))\n",
    "print(mean_squared_error(test_y, test_pred))\n",
    "\n",
    "max_weight_indices = np.array(lin_reg_baseline.coef_).argsort()[-3:]\n",
    "print(max_weight_indices)\n",
    "print(np.array(lin_reg_baseline.coef_)[max_weight_indices])\n",
    "\n"
   ]
  },
  {
   "cell_type": "code",
   "execution_count": 99,
   "metadata": {},
   "outputs": [],
   "source": [
    "class PerfEvalCustomCallback(keras.callbacks.Callback):\n",
    "    \n",
    "    def __init__(self, perf_data):\n",
    "        self.perf_data = perf_data\n",
    "    \n",
    "    # we define the on_epoch_end callback and save the loss and accuracy in perf_data\n",
    "    def on_epoch_end(self, epoch, logs=None):\n",
    "        self.perf_data[epoch,0] = logs['loss']\n",
    "        self.perf_data[epoch,1] = logs['mse']\n",
    "        self.perf_data[epoch,2] = logs['val_loss']\n",
    "        self.perf_data[epoch,3] = logs['val_mse']\n",
    "\n",
    "    def get_perf_data():\n",
    "        return self.perf_data"
   ]
  },
  {
   "cell_type": "code",
   "execution_count": 100,
   "metadata": {},
   "outputs": [],
   "source": [
    "def train_model(model, max_epochs=25, batch_size=100, verbose=0, \n",
    "                   dataset=(train_x, train_y, val_x, val_y, test_x, test_y)):\n",
    "\n",
    "    # unpack dataset\n",
    "    train_x, train_y, val_x, val_y, test_x, test_y = dataset\n",
    "    \n",
    "    # this is the callback we'll use for early stopping\n",
    "    early_stop_cb = keras.callbacks.EarlyStopping(monitor='loss', mode='min', patience=4)\n",
    "    \n",
    "    # setup the performance data callback\n",
    "    perf_data = np.zeros((max_epochs, 4))\n",
    "    perf_eval_cb = PerfEvalCustomCallback(perf_data)\n",
    "    \n",
    "    hobj = model.fit(train_x, train_y, validation_data=(val_x, val_y), epochs=max_epochs, batch_size=batch_size, \n",
    "                     shuffle=True, callbacks=[perf_eval_cb, early_stop_cb], verbose=verbose)\n",
    "    \n",
    "    eff_epochs = len(hobj.history['loss'])\n",
    "    eval_data = (perf_data[0:eff_epochs,:], dataset) # tuple of evaluation data\n",
    "    \n",
    "    return eval_data\n",
    "\n"
   ]
  },
  {
   "cell_type": "code",
   "execution_count": 101,
   "metadata": {},
   "outputs": [],
   "source": [
    "def create_compile_model(name='DNN-Minispect', hidden_activation='elu', input_shape=576, num_outputs=1, hidden_widths=[288,72,24]):\n",
    "    model = keras.models.Sequential(name=name)\n",
    "    \n",
    "    model.add(keras.layers.Input(shape=(input_shape,), sparse=False))\n",
    "    model.add(keras.layers.Dropout(0.2,input_shape=(input_shape,)))\n",
    "    for i, hw in enumerate(hidden_widths):\n",
    "        model.add(keras.layers.Dense(hw, activation=hidden_activation, name='hidden_{}'.format(i),kernel_initializer=keras.initializers.RandomNormal(stddev=np.sqrt(1/hw)),\n",
    "                                     bias_initializer=keras.initializers.Zeros(), use_bias=False))\n",
    "        \n",
    "    model.add(keras.layers.Dense(num_outputs, activation='linear', name='output', kernel_initializer=keras.initializers.RandomNormal(stddev=np.sqrt(0.1)), bias_initializer=keras.initializers.Zeros(), use_bias=True))\n",
    "    \n",
    "    opt = keras.optimizers.Adam(lr=0.0001)\n",
    "    \n",
    "    model.compile(loss=tf.keras.losses.MeanSquaredError(), optimizer=opt,metrics=['MeanSquaredError'])\n",
    "    return model"
   ]
  },
  {
   "cell_type": "code",
   "execution_count": 102,
   "metadata": {
    "scrolled": true
   },
   "outputs": [
    {
     "name": "stdout",
     "output_type": "stream",
     "text": [
      "Epoch 1/100\n",
      "126/126 [==============================] - 2s 9ms/step - loss: 0.5949 - mean_squared_error: 0.5949 - val_loss: 0.1637 - val_mean_squared_error: 0.1637\n",
      "Epoch 2/100\n",
      "126/126 [==============================] - 0s 4ms/step - loss: 0.2562 - mean_squared_error: 0.2562 - val_loss: 0.1382 - val_mean_squared_error: 0.1382\n",
      "Epoch 3/100\n",
      "126/126 [==============================] - 0s 4ms/step - loss: 0.2300 - mean_squared_error: 0.2300 - val_loss: 0.1457 - val_mean_squared_error: 0.1457\n",
      "Epoch 4/100\n",
      "126/126 [==============================] - 1s 4ms/step - loss: 0.1829 - mean_squared_error: 0.1829 - val_loss: 0.1388 - val_mean_squared_error: 0.1388\n",
      "Epoch 5/100\n",
      "126/126 [==============================] - 0s 4ms/step - loss: 0.1999 - mean_squared_error: 0.1999 - val_loss: 0.1249 - val_mean_squared_error: 0.1249\n",
      "Epoch 6/100\n",
      "126/126 [==============================] - 0s 4ms/step - loss: 0.1593 - mean_squared_error: 0.1593 - val_loss: 0.1567 - val_mean_squared_error: 0.1567\n",
      "Epoch 7/100\n",
      "126/126 [==============================] - 0s 4ms/step - loss: 0.1566 - mean_squared_error: 0.1566 - val_loss: 0.1192 - val_mean_squared_error: 0.1192\n",
      "Epoch 8/100\n",
      "126/126 [==============================] - 0s 4ms/step - loss: 0.1717 - mean_squared_error: 0.1717 - val_loss: 0.1124 - val_mean_squared_error: 0.1124\n",
      "Epoch 9/100\n",
      "126/126 [==============================] - 0s 4ms/step - loss: 0.1566 - mean_squared_error: 0.1566 - val_loss: 0.1634 - val_mean_squared_error: 0.1634\n",
      "Epoch 10/100\n",
      "126/126 [==============================] - 1s 4ms/step - loss: 0.1321 - mean_squared_error: 0.1321 - val_loss: 0.1517 - val_mean_squared_error: 0.1517\n",
      "Epoch 11/100\n",
      "126/126 [==============================] - 0s 4ms/step - loss: 0.1226 - mean_squared_error: 0.1226 - val_loss: 0.1703 - val_mean_squared_error: 0.1703\n",
      "Epoch 12/100\n",
      "126/126 [==============================] - 0s 4ms/step - loss: 0.1688 - mean_squared_error: 0.1688 - val_loss: 0.1515 - val_mean_squared_error: 0.1515\n",
      "Epoch 13/100\n",
      "126/126 [==============================] - 0s 4ms/step - loss: 0.1225 - mean_squared_error: 0.1225 - val_loss: 0.1355 - val_mean_squared_error: 0.1355\n",
      "Epoch 14/100\n",
      "126/126 [==============================] - 0s 4ms/step - loss: 0.1088 - mean_squared_error: 0.1088 - val_loss: 0.1058 - val_mean_squared_error: 0.1058\n",
      "Epoch 15/100\n",
      "126/126 [==============================] - 0s 4ms/step - loss: 0.1249 - mean_squared_error: 0.1249 - val_loss: 0.1406 - val_mean_squared_error: 0.1406\n",
      "Epoch 16/100\n",
      "126/126 [==============================] - 1s 5ms/step - loss: 0.1080 - mean_squared_error: 0.1080 - val_loss: 0.1203 - val_mean_squared_error: 0.1203\n",
      "Epoch 17/100\n",
      "126/126 [==============================] - 0s 4ms/step - loss: 0.1144 - mean_squared_error: 0.1144 - val_loss: 0.0923 - val_mean_squared_error: 0.0923\n",
      "Epoch 18/100\n",
      "126/126 [==============================] - 0s 4ms/step - loss: 0.1273 - mean_squared_error: 0.1273 - val_loss: 0.0901 - val_mean_squared_error: 0.0901\n",
      "Epoch 19/100\n",
      "126/126 [==============================] - 0s 4ms/step - loss: 0.0938 - mean_squared_error: 0.0938 - val_loss: 0.1085 - val_mean_squared_error: 0.1085\n",
      "Epoch 20/100\n",
      "126/126 [==============================] - 1s 4ms/step - loss: 0.0925 - mean_squared_error: 0.0925 - val_loss: 0.0910 - val_mean_squared_error: 0.0910\n",
      "Epoch 21/100\n",
      "126/126 [==============================] - 0s 4ms/step - loss: 0.1012 - mean_squared_error: 0.1012 - val_loss: 0.0899 - val_mean_squared_error: 0.0899\n",
      "Epoch 22/100\n",
      "126/126 [==============================] - 0s 4ms/step - loss: 0.0914 - mean_squared_error: 0.0914 - val_loss: 0.1016 - val_mean_squared_error: 0.1016\n",
      "Epoch 23/100\n",
      "126/126 [==============================] - 0s 4ms/step - loss: 0.0927 - mean_squared_error: 0.0927 - val_loss: 0.0806 - val_mean_squared_error: 0.0806\n",
      "Epoch 24/100\n",
      "126/126 [==============================] - 0s 4ms/step - loss: 0.1038 - mean_squared_error: 0.1038 - val_loss: 0.0748 - val_mean_squared_error: 0.0748\n",
      "Epoch 25/100\n",
      "126/126 [==============================] - 0s 4ms/step - loss: 0.0938 - mean_squared_error: 0.0938 - val_loss: 0.0805 - val_mean_squared_error: 0.0805\n",
      "Epoch 26/100\n",
      "126/126 [==============================] - 0s 4ms/step - loss: 0.0944 - mean_squared_error: 0.0944 - val_loss: 0.0786 - val_mean_squared_error: 0.0786\n",
      "Epoch 27/100\n",
      "126/126 [==============================] - 1s 4ms/step - loss: 0.0789 - mean_squared_error: 0.0789 - val_loss: 0.1088 - val_mean_squared_error: 0.1088\n",
      "Epoch 28/100\n",
      "126/126 [==============================] - 0s 4ms/step - loss: 0.0894 - mean_squared_error: 0.0894 - val_loss: 0.0704 - val_mean_squared_error: 0.0704\n",
      "Epoch 29/100\n",
      "126/126 [==============================] - 0s 4ms/step - loss: 0.0872 - mean_squared_error: 0.0872 - val_loss: 0.0792 - val_mean_squared_error: 0.0792\n",
      "Epoch 30/100\n",
      "126/126 [==============================] - 0s 4ms/step - loss: 0.0853 - mean_squared_error: 0.0853 - val_loss: 0.0711 - val_mean_squared_error: 0.0711\n",
      "Epoch 31/100\n",
      "126/126 [==============================] - 0s 4ms/step - loss: 0.0818 - mean_squared_error: 0.0818 - val_loss: 0.0691 - val_mean_squared_error: 0.0691\n",
      "Epoch 32/100\n",
      "126/126 [==============================] - 0s 4ms/step - loss: 0.0931 - mean_squared_error: 0.0931 - val_loss: 0.0732 - val_mean_squared_error: 0.0732\n",
      "Epoch 33/100\n",
      "126/126 [==============================] - 0s 4ms/step - loss: 0.0885 - mean_squared_error: 0.0885 - val_loss: 0.0658 - val_mean_squared_error: 0.0658\n",
      "Epoch 34/100\n",
      "126/126 [==============================] - 0s 4ms/step - loss: 0.0822 - mean_squared_error: 0.0822 - val_loss: 0.0752 - val_mean_squared_error: 0.0752\n",
      "Epoch 35/100\n",
      "126/126 [==============================] - 0s 4ms/step - loss: 0.0749 - mean_squared_error: 0.0749 - val_loss: 0.0804 - val_mean_squared_error: 0.0804\n",
      "Epoch 36/100\n",
      "126/126 [==============================] - 0s 4ms/step - loss: 0.0687 - mean_squared_error: 0.0687 - val_loss: 0.0768 - val_mean_squared_error: 0.0768\n",
      "Epoch 37/100\n",
      "126/126 [==============================] - 0s 4ms/step - loss: 0.0760 - mean_squared_error: 0.0760 - val_loss: 0.1172 - val_mean_squared_error: 0.1172\n",
      "Epoch 38/100\n",
      "126/126 [==============================] - 0s 3ms/step - loss: 0.0716 - mean_squared_error: 0.0716 - val_loss: 0.0601 - val_mean_squared_error: 0.0601\n",
      "Epoch 39/100\n",
      "126/126 [==============================] - 0s 4ms/step - loss: 0.0903 - mean_squared_error: 0.0903 - val_loss: 0.0552 - val_mean_squared_error: 0.0552\n",
      "Epoch 40/100\n",
      "126/126 [==============================] - 0s 4ms/step - loss: 0.0661 - mean_squared_error: 0.0661 - val_loss: 0.0653 - val_mean_squared_error: 0.0653\n",
      "Epoch 41/100\n",
      "126/126 [==============================] - 0s 3ms/step - loss: 0.0743 - mean_squared_error: 0.0743 - val_loss: 0.0558 - val_mean_squared_error: 0.0558\n",
      "Epoch 42/100\n",
      "126/126 [==============================] - 0s 4ms/step - loss: 0.0659 - mean_squared_error: 0.0659 - val_loss: 0.0600 - val_mean_squared_error: 0.0600\n",
      "Epoch 43/100\n",
      "126/126 [==============================] - 0s 3ms/step - loss: 0.0622 - mean_squared_error: 0.0622 - val_loss: 0.0775 - val_mean_squared_error: 0.0775\n",
      "Epoch 44/100\n",
      "126/126 [==============================] - 0s 4ms/step - loss: 0.0808 - mean_squared_error: 0.0808 - val_loss: 0.0585 - val_mean_squared_error: 0.0585\n",
      "Epoch 45/100\n",
      "126/126 [==============================] - 0s 4ms/step - loss: 0.0707 - mean_squared_error: 0.0707 - val_loss: 0.1488 - val_mean_squared_error: 0.1488\n",
      "Epoch 46/100\n",
      "126/126 [==============================] - 1s 4ms/step - loss: 0.0650 - mean_squared_error: 0.0650 - val_loss: 0.0843 - val_mean_squared_error: 0.0843\n",
      "Epoch 47/100\n",
      "126/126 [==============================] - 0s 4ms/step - loss: 0.0647 - mean_squared_error: 0.0647 - val_loss: 0.0609 - val_mean_squared_error: 0.0609\n",
      "Epoch 48/100\n",
      "126/126 [==============================] - 0s 4ms/step - loss: 0.0694 - mean_squared_error: 0.0694 - val_loss: 0.0483 - val_mean_squared_error: 0.0483\n",
      "Epoch 49/100\n",
      "126/126 [==============================] - 1s 4ms/step - loss: 0.0631 - mean_squared_error: 0.0631 - val_loss: 0.0703 - val_mean_squared_error: 0.0703\n",
      "Epoch 50/100\n",
      "126/126 [==============================] - 0s 4ms/step - loss: 0.0632 - mean_squared_error: 0.0632 - val_loss: 0.0481 - val_mean_squared_error: 0.0481\n",
      "Epoch 51/100\n",
      "126/126 [==============================] - 1s 4ms/step - loss: 0.0558 - mean_squared_error: 0.0558 - val_loss: 0.0468 - val_mean_squared_error: 0.0468\n",
      "Epoch 52/100\n",
      "126/126 [==============================] - 0s 4ms/step - loss: 0.0611 - mean_squared_error: 0.0611 - val_loss: 0.0491 - val_mean_squared_error: 0.0491\n",
      "Epoch 53/100\n",
      "126/126 [==============================] - 0s 4ms/step - loss: 0.0702 - mean_squared_error: 0.0702 - val_loss: 0.0772 - val_mean_squared_error: 0.0772\n",
      "Epoch 54/100\n",
      "126/126 [==============================] - 0s 4ms/step - loss: 0.0755 - mean_squared_error: 0.0755 - val_loss: 0.0845 - val_mean_squared_error: 0.0845\n",
      "Epoch 55/100\n",
      "126/126 [==============================] - 1s 4ms/step - loss: 0.0580 - mean_squared_error: 0.0580 - val_loss: 0.0543 - val_mean_squared_error: 0.0543\n",
      "Epoch 56/100\n",
      "126/126 [==============================] - 0s 4ms/step - loss: 0.0624 - mean_squared_error: 0.0624 - val_loss: 0.0568 - val_mean_squared_error: 0.0568\n",
      "Epoch 57/100\n",
      "126/126 [==============================] - 0s 4ms/step - loss: 0.0682 - mean_squared_error: 0.0682 - val_loss: 0.0456 - val_mean_squared_error: 0.0456\n",
      "Epoch 58/100\n",
      "126/126 [==============================] - 1s 4ms/step - loss: 0.0641 - mean_squared_error: 0.0641 - val_loss: 0.0549 - val_mean_squared_error: 0.0549\n",
      "Epoch 59/100\n",
      "126/126 [==============================] - 0s 4ms/step - loss: 0.0602 - mean_squared_error: 0.0602 - val_loss: 0.0483 - val_mean_squared_error: 0.0483\n",
      "Epoch 60/100\n",
      "126/126 [==============================] - 1s 5ms/step - loss: 0.0562 - mean_squared_error: 0.0562 - val_loss: 0.0454 - val_mean_squared_error: 0.0454\n",
      "Epoch 61/100\n",
      "126/126 [==============================] - 1s 4ms/step - loss: 0.0589 - mean_squared_error: 0.0589 - val_loss: 0.0821 - val_mean_squared_error: 0.0821\n",
      "Epoch 62/100\n",
      "126/126 [==============================] - 1s 4ms/step - loss: 0.0567 - mean_squared_error: 0.0567 - val_loss: 0.0692 - val_mean_squared_error: 0.0692\n",
      "Epoch 63/100\n",
      "126/126 [==============================] - 0s 4ms/step - loss: 0.0589 - mean_squared_error: 0.0589 - val_loss: 0.0694 - val_mean_squared_error: 0.0694\n",
      "Epoch 64/100\n",
      "126/126 [==============================] - 0s 4ms/step - loss: 0.0573 - mean_squared_error: 0.0573 - val_loss: 0.0454 - val_mean_squared_error: 0.0454\n",
      "Epoch 65/100\n",
      "126/126 [==============================] - 0s 4ms/step - loss: 0.0552 - mean_squared_error: 0.0552 - val_loss: 0.0562 - val_mean_squared_error: 0.0562\n",
      "Epoch 66/100\n",
      "126/126 [==============================] - 0s 4ms/step - loss: 0.0705 - mean_squared_error: 0.0705 - val_loss: 0.0425 - val_mean_squared_error: 0.0425\n",
      "Epoch 67/100\n",
      "126/126 [==============================] - 1s 4ms/step - loss: 0.0654 - mean_squared_error: 0.0654 - val_loss: 0.0451 - val_mean_squared_error: 0.0451\n",
      "Epoch 68/100\n",
      "126/126 [==============================] - 0s 4ms/step - loss: 0.0632 - mean_squared_error: 0.0632 - val_loss: 0.0827 - val_mean_squared_error: 0.0827\n",
      "Epoch 69/100\n",
      "126/126 [==============================] - 0s 4ms/step - loss: 0.0629 - mean_squared_error: 0.0629 - val_loss: 0.0638 - val_mean_squared_error: 0.0638\n",
      "Epoch 70/100\n",
      "126/126 [==============================] - 0s 4ms/step - loss: 0.0628 - mean_squared_error: 0.0628 - val_loss: 0.0626 - val_mean_squared_error: 0.0626\n",
      "Epoch 71/100\n",
      "126/126 [==============================] - 0s 4ms/step - loss: 0.0495 - mean_squared_error: 0.0495 - val_loss: 0.0718 - val_mean_squared_error: 0.0718\n",
      "Epoch 72/100\n",
      "126/126 [==============================] - 0s 4ms/step - loss: 0.0764 - mean_squared_error: 0.0764 - val_loss: 0.0773 - val_mean_squared_error: 0.0773\n",
      "Epoch 73/100\n",
      "126/126 [==============================] - 0s 4ms/step - loss: 0.0555 - mean_squared_error: 0.0555 - val_loss: 0.0497 - val_mean_squared_error: 0.0497\n",
      "Epoch 74/100\n",
      "126/126 [==============================] - 0s 4ms/step - loss: 0.0515 - mean_squared_error: 0.0515 - val_loss: 0.0413 - val_mean_squared_error: 0.0413\n",
      "Epoch 75/100\n",
      "126/126 [==============================] - 0s 4ms/step - loss: 0.0552 - mean_squared_error: 0.0552 - val_loss: 0.0445 - val_mean_squared_error: 0.0445\n",
      "Epoch 76/100\n",
      "126/126 [==============================] - 0s 4ms/step - loss: 0.0561 - mean_squared_error: 0.0561 - val_loss: 0.0780 - val_mean_squared_error: 0.0780\n",
      "Epoch 77/100\n",
      "126/126 [==============================] - 0s 4ms/step - loss: 0.0600 - mean_squared_error: 0.0600 - val_loss: 0.0442 - val_mean_squared_error: 0.0442\n",
      "Epoch 78/100\n",
      "126/126 [==============================] - 0s 4ms/step - loss: 0.0529 - mean_squared_error: 0.0529 - val_loss: 0.0610 - val_mean_squared_error: 0.0610\n",
      "Epoch 79/100\n",
      "126/126 [==============================] - 0s 4ms/step - loss: 0.0543 - mean_squared_error: 0.0543 - val_loss: 0.0652 - val_mean_squared_error: 0.0652\n",
      "Epoch 80/100\n",
      "126/126 [==============================] - 0s 4ms/step - loss: 0.0560 - mean_squared_error: 0.0560 - val_loss: 0.0576 - val_mean_squared_error: 0.0576\n",
      "Epoch 81/100\n",
      "126/126 [==============================] - 0s 4ms/step - loss: 0.0532 - mean_squared_error: 0.0532 - val_loss: 0.0877 - val_mean_squared_error: 0.0877\n",
      "Epoch 82/100\n",
      "126/126 [==============================] - 0s 4ms/step - loss: 0.0523 - mean_squared_error: 0.0523 - val_loss: 0.0541 - val_mean_squared_error: 0.0541\n",
      "Epoch 83/100\n",
      "126/126 [==============================] - 0s 4ms/step - loss: 0.0494 - mean_squared_error: 0.0494 - val_loss: 0.0419 - val_mean_squared_error: 0.0419\n",
      "Epoch 84/100\n",
      "126/126 [==============================] - 0s 4ms/step - loss: 0.0530 - mean_squared_error: 0.0530 - val_loss: 0.0381 - val_mean_squared_error: 0.0381\n",
      "Epoch 85/100\n",
      "126/126 [==============================] - 0s 4ms/step - loss: 0.0561 - mean_squared_error: 0.0561 - val_loss: 0.0434 - val_mean_squared_error: 0.0434\n",
      "Epoch 86/100\n",
      "126/126 [==============================] - 0s 4ms/step - loss: 0.0532 - mean_squared_error: 0.0532 - val_loss: 0.0442 - val_mean_squared_error: 0.0442\n",
      "Epoch 87/100\n",
      "126/126 [==============================] - 0s 4ms/step - loss: 0.0632 - mean_squared_error: 0.0632 - val_loss: 0.0439 - val_mean_squared_error: 0.0439\n",
      "Epoch 88/100\n",
      "126/126 [==============================] - 0s 4ms/step - loss: 0.0542 - mean_squared_error: 0.0542 - val_loss: 0.0398 - val_mean_squared_error: 0.0398\n",
      "Epoch 89/100\n",
      "126/126 [==============================] - 1s 4ms/step - loss: 0.0519 - mean_squared_error: 0.0519 - val_loss: 0.0427 - val_mean_squared_error: 0.0427\n",
      "Epoch 90/100\n",
      "126/126 [==============================] - 0s 4ms/step - loss: 0.0577 - mean_squared_error: 0.0577 - val_loss: 0.0412 - val_mean_squared_error: 0.0412\n",
      "Epoch 91/100\n",
      "126/126 [==============================] - 0s 4ms/step - loss: 0.0590 - mean_squared_error: 0.0590 - val_loss: 0.0692 - val_mean_squared_error: 0.0692\n",
      "Epoch 92/100\n",
      "126/126 [==============================] - 0s 4ms/step - loss: 0.0528 - mean_squared_error: 0.0528 - val_loss: 0.0483 - val_mean_squared_error: 0.0483\n",
      "Epoch 93/100\n",
      "126/126 [==============================] - 1s 5ms/step - loss: 0.0460 - mean_squared_error: 0.0460 - val_loss: 0.0406 - val_mean_squared_error: 0.0406\n",
      "Epoch 94/100\n",
      "126/126 [==============================] - 1s 4ms/step - loss: 0.0579 - mean_squared_error: 0.0579 - val_loss: 0.0398 - val_mean_squared_error: 0.0398\n",
      "Epoch 95/100\n",
      "126/126 [==============================] - 0s 4ms/step - loss: 0.0453 - mean_squared_error: 0.0453 - val_loss: 0.0386 - val_mean_squared_error: 0.0386\n",
      "Epoch 96/100\n",
      "126/126 [==============================] - 0s 4ms/step - loss: 0.0582 - mean_squared_error: 0.0582 - val_loss: 0.0426 - val_mean_squared_error: 0.0426\n",
      "Epoch 97/100\n",
      "126/126 [==============================] - 0s 4ms/step - loss: 0.0449 - mean_squared_error: 0.0449 - val_loss: 0.0504 - val_mean_squared_error: 0.0504\n",
      "Epoch 98/100\n",
      "126/126 [==============================] - 1s 4ms/step - loss: 0.0632 - mean_squared_error: 0.0632 - val_loss: 0.0443 - val_mean_squared_error: 0.0443\n",
      "Epoch 99/100\n",
      "126/126 [==============================] - 0s 4ms/step - loss: 0.0543 - mean_squared_error: 0.0543 - val_loss: 0.0398 - val_mean_squared_error: 0.0398\n",
      "Epoch 100/100\n",
      "126/126 [==============================] - 0s 4ms/step - loss: 0.0566 - mean_squared_error: 0.0566 - val_loss: 0.0442 - val_mean_squared_error: 0.0442\n"
     ]
    },
    {
     "data": {
      "text/plain": [
       "<tensorflow.python.keras.callbacks.History at 0x7ffa3033b910>"
      ]
     },
     "execution_count": 102,
     "metadata": {},
     "output_type": "execute_result"
    }
   ],
   "source": [
    "model = create_compile_model(hidden_activation='relu')\n",
    "model.fit(train_x,train_y,epochs=100,batch_size=5,validation_data=(val_x,val_y))"
   ]
  },
  {
   "cell_type": "code",
   "execution_count": 103,
   "metadata": {},
   "outputs": [
    {
     "name": "stdout",
     "output_type": "stream",
     "text": [
      "5/5 [==============================] - 0s 4ms/step - loss: 0.0334 - mean_squared_error: 0.0334\n"
     ]
    },
    {
     "data": {
      "text/plain": [
       "[0.03339478373527527, 0.03339478373527527]"
      ]
     },
     "execution_count": 103,
     "metadata": {},
     "output_type": "execute_result"
    }
   ],
   "source": [
    "model.evaluate(x=test_x, y=test_y)"
   ]
  },
  {
   "cell_type": "code",
   "execution_count": 104,
   "metadata": {},
   "outputs": [
    {
     "data": {
      "text/plain": [
       "(576, 288)"
      ]
     },
     "execution_count": 104,
     "metadata": {},
     "output_type": "execute_result"
    }
   ],
   "source": [
    "np.array(model.weights[0]).shape"
   ]
  },
  {
   "cell_type": "markdown",
   "metadata": {},
   "source": [
    "## Export our model out to a queryable TensorFlow lite format."
   ]
  },
  {
   "cell_type": "code",
   "execution_count": 105,
   "metadata": {},
   "outputs": [
    {
     "name": "stdout",
     "output_type": "stream",
     "text": [
      "INFO:tensorflow:Assets written to: /tmp/tmpqi7m2krs/assets\n"
     ]
    },
    {
     "name": "stderr",
     "output_type": "stream",
     "text": [
      "INFO:tensorflow:Assets written to: /tmp/tmpqi7m2krs/assets\n"
     ]
    },
    {
     "data": {
      "text/plain": [
       "755120"
      ]
     },
     "execution_count": 105,
     "metadata": {},
     "output_type": "execute_result"
    }
   ],
   "source": [
    "import tensorflow.lite as tflite\n",
    "converter = tflite.TFLiteConverter.from_keras_model(model)\n",
    "tflite_model = converter.convert()\n",
    "open('chl_nn_minispect.tflite', 'wb').write(tflite_model)\n",
    "\n"
   ]
  },
  {
   "cell_type": "code",
   "execution_count": null,
   "metadata": {},
   "outputs": [],
   "source": []
  }
 ],
 "metadata": {
  "kernelspec": {
   "display_name": "Python 3",
   "language": "python",
   "name": "python3"
  },
  "language_info": {
   "codemirror_mode": {
    "name": "ipython",
    "version": 3
   },
   "file_extension": ".py",
   "mimetype": "text/x-python",
   "name": "python",
   "nbconvert_exporter": "python",
   "pygments_lexer": "ipython3",
   "version": "3.8.5"
  }
 },
 "nbformat": 4,
 "nbformat_minor": 4
}
